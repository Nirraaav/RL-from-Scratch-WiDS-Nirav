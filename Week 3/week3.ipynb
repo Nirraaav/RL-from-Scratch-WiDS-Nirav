{
 "cells": [
  {
   "cell_type": "markdown",
   "metadata": {},
   "source": [
    "### Assignment : Week 3\n",
    "## Efficiently finding optimal policies in MABs\n",
    "\n",
    "In this assignment, we will work with Multi Armed Bandit environments, and try to find the best policies using different strategies to minimize the total regret.\n",
    "\n",
    "The aim of this exercise is to code agents capable of understanding the underlying probability distributions of the environment and finding the most optimal actions as early as possible.\n",
    "\n",
    "You can start this assignment during/after reading Grokking Ch-4."
   ]
  },
  {
   "cell_type": "markdown",
   "metadata": {},
   "source": [
    "Let's get started!"
   ]
  },
  {
   "cell_type": "code",
   "execution_count": 53,
   "metadata": {},
   "outputs": [],
   "source": [
    "# importing necessary stuff\n",
    "import numpy as np\n",
    "from pprint import pprint\n",
    "from tqdm.notebook import tqdm\n",
    "\n",
    "# if you want to use envs from Gym, import it\n",
    "import gym, gym_bandits\n",
    "\n",
    "from math import log, sqrt, log10\n",
    "\n",
    "from bandits import Bandit"
   ]
  },
  {
   "cell_type": "markdown",
   "metadata": {},
   "source": [
    "Let's make a simple **2-armed Bernoulli** bandit.\n",
    "\n",
    "If you want a cleaner code, you can implement Bandits using `class` in Python.\n",
    "\n",
    "We have included sample code for this in `bandits.py` which you can take/import."
   ]
  },
  {
   "cell_type": "code",
   "execution_count": 17,
   "metadata": {},
   "outputs": [],
   "source": [
    "# generating the underlying probability distribution\n",
    "\n",
    "probs = np.random.random(2)"
   ]
  },
  {
   "cell_type": "code",
   "execution_count": 11,
   "metadata": {},
   "outputs": [],
   "source": [
    "# our MDP is a function which takes an action and returns a reward\n",
    "\n",
    "def mab_2_env(action):\n",
    "    gen = np.random.random()\n",
    "\n",
    "    # for bernoulli bandits, the reward is 1 if the random number is less than the probability of success, else 0\n",
    "    return gen < probs[action]"
   ]
  },
  {
   "cell_type": "markdown",
   "metadata": {},
   "source": [
    "Let's now make a template for testing different strategies.\n",
    "\n",
    "Feel free to modify this code."
   ]
  },
  {
   "cell_type": "code",
   "execution_count": 12,
   "metadata": {},
   "outputs": [],
   "source": [
    "# strategy function takes in the environment function, number of actions, and a selector function\n",
    "# it also takes in the number of episodes to run the strategy for (higher episodes = more accurate Q values)\n",
    "\n",
    "def test_strategy(env, n_actions, selector, n_episodes = 1000):\n",
    "    \n",
    "    # initialize Q and N to 0s\n",
    "    Q = np.zeros(n_actions)\n",
    "    N = np.zeros(n_actions)\n",
    "\n",
    "    # loop for n_episodes\n",
    "    for e in tqdm(range(n_episodes)):\n",
    "        \n",
    "        # selector function takes in current Q and returns an action\n",
    "        # modify the selector function according to the strategy\n",
    "        action = selector(Q)\n",
    "\n",
    "        # get the reward from the environment\n",
    "        reward = env(action)\n",
    "\n",
    "        # update N and Q\n",
    "        N[action] += 1\n",
    "        Q[action] += (reward - Q[action])/N[action]\n",
    "\n",
    "    # return the best action\n",
    "    return np.argmax(Q)"
   ]
  },
  {
   "cell_type": "markdown",
   "metadata": {},
   "source": [
    "Implementing the simplest selector using pure-exploration strategy."
   ]
  },
  {
   "cell_type": "code",
   "execution_count": 18,
   "metadata": {},
   "outputs": [],
   "source": [
    "# selector returns a random action\n",
    "random_selector = lambda Q : np.random.randint(len(Q))"
   ]
  },
  {
   "cell_type": "markdown",
   "metadata": {},
   "source": [
    "Let's test this strategy."
   ]
  },
  {
   "cell_type": "code",
   "execution_count": 19,
   "metadata": {},
   "outputs": [
    {
     "data": {
      "application/vnd.jupyter.widget-view+json": {
       "model_id": "4f9c7927cf6648da92cd26ba93d88c9b",
       "version_major": 2,
       "version_minor": 0
      },
      "text/plain": [
       "  0%|          | 0/1000 [00:00<?, ?it/s]"
      ]
     },
     "metadata": {},
     "output_type": "display_data"
    },
    {
     "data": {
      "text/plain": [
       "0"
      ]
     },
     "execution_count": 19,
     "metadata": {},
     "output_type": "execute_result"
    }
   ],
   "source": [
    "test_strategy(mab_2_env, 2, random_selector)"
   ]
  },
  {
   "cell_type": "markdown",
   "metadata": {},
   "source": [
    "As you can see, it returns the optimal action. Let's check if that's indeed true.\n",
    "\n",
    "We can do that by revealing the actual `probs` distribution."
   ]
  },
  {
   "cell_type": "code",
   "execution_count": 20,
   "metadata": {},
   "outputs": [
    {
     "data": {
      "text/plain": [
       "array([0.39186151, 0.16238667])"
      ]
     },
     "execution_count": 20,
     "metadata": {},
     "output_type": "execute_result"
    }
   ],
   "source": [
    "probs"
   ]
  },
  {
   "cell_type": "markdown",
   "metadata": {},
   "source": [
    "As expected, our pure exploration strategy does indeed return the optimal action for this Bernoulli bandit. \n",
    "\n",
    "You can try generating new bandits with different `probs` and try out the same."
   ]
  },
  {
   "cell_type": "markdown",
   "metadata": {},
   "source": [
    "With all this in place, here's what you have to do -\n",
    "\n",
    "Recall that, the regret $\\mathcal{T}$ is given by,\n",
    "\n",
    "$$\\mathcal{T}=\\sum  _{e=1} ^{E} \\mathbb{E} \\left[ v_* - q_* \\left( A_e \\right) \\right]$$\n",
    "\n",
    "We can only calculate it when we have the $v_*$ and $q_*$ functions known beforehand. Since we are making the MDPs from scratch, that's not an issue for us right now.\n",
    "\n",
    "But remember, in real-life problems, these functions are not known. Hence we must be aware of multiple policy finding strategies and try the one which gives best results fastest."
   ]
  },
  {
   "cell_type": "markdown",
   "metadata": {},
   "source": [
    "### Todo 0\n",
    "\n",
    "Implement the calculation of the total regret $\\mathcal{T}$ for your strategy.\n",
    "\n",
    "To do this, you will need to store the rewards obtained each episode. Modify the `strategy` function accordingly."
   ]
  },
  {
   "cell_type": "code",
   "execution_count": 21,
   "metadata": {},
   "outputs": [],
   "source": [
    "# function to calculate total regret\n",
    "\n",
    "def regret(rewards, probs):\n",
    "\n",
    "    return len(rewards) * np.max(probs) - sum(rewards)"
   ]
  },
  {
   "cell_type": "markdown",
   "metadata": {},
   "source": [
    "### Todo 1\n",
    "\n",
    "Now, let's implement some other selection strategies and compare their regret with the simple exploration strategy.\n",
    "\n",
    "Note that some of these strategies involve hyperparameter(s) which need to be manually adjusted. You have to play around with the values and see which one gives you best results.\n",
    "\n",
    "This is known as \"hyperparameter tuning\" and is quite commonly done while working with complex models (including neural networks). Personally, you should try out some natural values (including the ones given in the book) along with some extreme values where it is easy to manually verify the correctness of your strategy."
   ]
  },
  {
   "cell_type": "code",
   "execution_count": 65,
   "metadata": {},
   "outputs": [],
   "source": [
    "# epsilon-greedy strategy\n",
    "# Already implemented for you coz I am nice (Thanks UwU -Nirav)\n",
    "\n",
    "def epsilon_greedy(Q, epsilon):\n",
    "    if np.random.random() < epsilon:\n",
    "        return np.random.randint(len(Q))\n",
    "    else:\n",
    "        return np.argmax(Q)"
   ]
  },
  {
   "cell_type": "code",
   "execution_count": 25,
   "metadata": {},
   "outputs": [],
   "source": [
    "# exponentially decaying epsilon greedy strategy\n",
    "\n",
    "def exponentially_decaying_epsilon_greedy(Q, epsilon, episode, gamma = 0.99):\n",
    "    \n",
    "    epsilon *= gamma**episode\n",
    "    if np.random.random() < epsilon:\n",
    "        return np.random.randint(len(Q)), epsilon\n",
    "    return np.argmax(Q) + epsilon"
   ]
  },
  {
   "cell_type": "code",
   "execution_count": 28,
   "metadata": {},
   "outputs": [],
   "source": [
    "# softmax action selection strategy\n",
    "\n",
    "def softmax_strategy(Q, temperature):\n",
    "    \n",
    "    assert temperature > 0\n",
    "\n",
    "    values = np.exp(Q / temperature)\n",
    "    probabilities = values / np.sum(values)\n",
    "    action = np.random.choice(len(Q), p=probabilities)\n",
    "\n",
    "    return action\n"
   ]
  },
  {
   "cell_type": "code",
   "execution_count": 29,
   "metadata": {},
   "outputs": [],
   "source": [
    "# upper confidence bound strategy\n",
    "\n",
    "def ucb(Q, N, c):\n",
    "    \n",
    "    total_rounds = sum(N)\n",
    "    ucb_values = [Q[i] + c * sqrt(log(total_rounds) / N[i]) if N[i] >= 1 else Q[i] for i in range(len(Q))]\n",
    "    chosen_action = np.argmax(ucb_values) + 1 \n",
    "\n",
    "    return chosen_action"
   ]
  },
  {
   "cell_type": "code",
   "execution_count": 30,
   "metadata": {},
   "outputs": [],
   "source": [
    "# thompson sampling strategy\n",
    "\n",
    "def thompson_sampling(Q, N, alpha, beta):\n",
    "    \n",
    "    samples = np.random.normal(loc=Q, scale=alpha / (sqrt(N) + beta))\n",
    "    chosen_action = np.argmax(samples) + 1 \n",
    "\n",
    "    return chosen_action"
   ]
  },
  {
   "cell_type": "markdown",
   "metadata": {},
   "source": [
    "### Todo 2\n",
    "\n",
    "Run each strategy for 2-armed bandit environment and compare the total regrets.\n",
    "\n",
    "You can also try plotting the regret vs episode graph and check if it matches the expected result from Grokking"
   ]
  },
  {
   "cell_type": "code",
   "execution_count": 84,
   "metadata": {},
   "outputs": [],
   "source": [
    "# import plotting libraries\n",
    "\n",
    "import matplotlib.pyplot as plt"
   ]
  },
  {
   "cell_type": "code",
   "execution_count": 58,
   "metadata": {},
   "outputs": [],
   "source": [
    "bernoulli_bandit = Bandit(10, \"Bernoulli\")\n",
    "bernoulli_bandit.probs\n",
    "bandit = bernoulli_bandit"
   ]
  },
  {
   "cell_type": "code",
   "execution_count": 112,
   "metadata": {},
   "outputs": [],
   "source": [
    "def epsilon_greedy_implementation(epsilon=0.1, gamma=0.9, num_episodes=10000):\n",
    "    global bandit\n",
    "    Q = np.zeros(bandit.N)\n",
    "    N = np.zeros(bandit.N)\n",
    "\n",
    "    for episode in range(num_episodes):\n",
    "        choice = epsilon_greedy(Q, epsilon)\n",
    "        reward = bandit.choose(choice)\n",
    "        regret = bandit.optimal - reward\n",
    "        bandit.regret += regret\n",
    "\n",
    "        Q[choice-1] = (Q[choice-1] * N[choice-1] + gamma * reward) / (N[choice-1] + 1)\n",
    "        N[choice-1] += 1\n",
    "\n",
    "    return np.argmax(Q)"
   ]
  },
  {
   "cell_type": "code",
   "execution_count": 74,
   "metadata": {},
   "outputs": [],
   "source": [
    "def implement_decaying_epsilon_greedy(epsilon, gamma=0.9, num_episodes = 10000): ## Credit to Aditya Neeraje, helped me tremendously\n",
    "    global bandit\n",
    "    min_to_max_ratio = 0.01\n",
    "    max_epsilon = epsilon\n",
    "    min_epsilon = min_to_max_ratio*epsilon\n",
    "    decay_rate = 0.05\n",
    "    decay_episodes = int(num_episodes*decay_rate)\n",
    "    remaining_episodes = num_episodes - decay_episodes\n",
    "    epsilons = 0.01\n",
    "    epsilons /= np.logspace(log10(min_to_max_ratio), 0, decay_episodes)\n",
    "    epsilons *= max_epsilon - min_epsilon\n",
    "    epsilons += min_epsilon\n",
    "    epsilons = np.pad(epsilons, (0, remaining_episodes), mode='constant', constant_values=min_epsilon)\n",
    "    bandit.regret = 0\n",
    "    gamma_power = gamma\n",
    "    Q = np.zeros(bandit.N)\n",
    "    N = np.zeros(bandit.N)\n",
    "    for episode in range(num_episodes):\n",
    "        choice = epsilon_greedy(Q, epsilons[episode])\n",
    "        Q[choice-1] = (Q[choice-1]*N[choice-1] + gamma * bandit.choose(choice))/(N[choice-1] + 1)\n",
    "        N[choice-1] += 1\n",
    "        gamma_power *= gamma\n",
    "        \n",
    "    return np.argmax(Q)"
   ]
  },
  {
   "cell_type": "code",
   "execution_count": 75,
   "metadata": {},
   "outputs": [],
   "source": [
    "def implement_softmax(temperature, gamma=0.9, num_episodes = 10000):\n",
    "    global bandit\n",
    "    bandit.regret = 0\n",
    "    gamma_power = gamma\n",
    "    Q = np.zeros(bandit.N)\n",
    "    N = np.zeros(bandit.N)\n",
    "    for episode in range(num_episodes):\n",
    "        choice = softmax_strategy(Q, temperature)\n",
    "        Q[choice-1] = (Q[choice-1]*N[choice-1] + gamma * bandit.evaluate_choice(choice))/(N[choice-1] + 1)\n",
    "        N[choice-1] += 1\n",
    "        gamma_power *= gamma\n",
    "    return np.argmax(Q)"
   ]
  },
  {
   "cell_type": "code",
   "execution_count": 76,
   "metadata": {},
   "outputs": [],
   "source": [
    "def implement_ucb(c, gamma=0.9, num_episodes = 10000):\n",
    "    global bandit\n",
    "    bandit.regret = 0\n",
    "    gamma_power = gamma\n",
    "    Q = np.zeros(bandit.N)\n",
    "    N = np.ones(bandit.N)\n",
    "    for episode in range(num_episodes):\n",
    "        choice = ucb(Q, N, c)\n",
    "        Q[choice-1] = (Q[choice-1]*N[choice-1] + gamma * bandit.evaluate_choice(choice))/(N[choice-1] + 1)\n",
    "        N[choice-1] += 1\n",
    "        gamma_power *= gamma\n",
    "    return np.argmax(Q)"
   ]
  },
  {
   "cell_type": "code",
   "execution_count": 118,
   "metadata": {},
   "outputs": [],
   "source": [
    "def implement_thompson_sampling(alpha=1, beta=0, gamma = 0.9, num_episodes = 10000):\n",
    "    global bandit\n",
    "    bandit.regret = 0\n",
    "    gamma_power = gamma\n",
    "    Q = np.zeros(bandit.N)\n",
    "    N = np.zeros(bandit.N)\n",
    "    for episode in range(num_episodes):\n",
    "        choice = thompson_sampling(Q, N, alpha, beta)\n",
    "        Q[choice-1] = (Q[choice-1]*N[choice-1] + gamma * bandit.evaluate_choice(choice))/(N[choice-1] + 1)\n",
    "        N[choice-1] += 1\n",
    "        gamma_power *= gamma\n",
    "    return np.argmax(Q)"
   ]
  },
  {
   "cell_type": "markdown",
   "metadata": {},
   "source": [
    "### Todo 3\n",
    "\n",
    "The 2-armed bandits might be too simple for us to actually see substantial difference in the regret of these strategies. \n",
    "\n",
    "Let's now create a more complicated bandit environment and replicate our results on it."
   ]
  },
  {
   "cell_type": "markdown",
   "metadata": {},
   "source": [
    "We will now implement a 10-armed Gaussian bandit. \n",
    "\n",
    "As required, it will have possible actions and each action will generate a reward sampled from a Gaussian distribution.\n",
    "\n",
    "Hence, each \"arm\" will have a randomly generated $\\mu$ and $\\sigma$, and the rewards will be generated with probabilities following the $\\mathcal{N}(\\mu, \\sigma^2)$ distribution. "
   ]
  },
  {
   "cell_type": "code",
   "execution_count": 53,
   "metadata": {},
   "outputs": [],
   "source": [
    "# 10 arm gaussian bandit\n",
    "\n",
    "# generate the means for each arm\n",
    "means = []\n",
    "\n",
    "# generate the variance for each arm\n",
    "variances = []"
   ]
  },
  {
   "cell_type": "code",
   "execution_count": 54,
   "metadata": {},
   "outputs": [],
   "source": [
    "# our MDP is a again function which takes an action and returns a reward\n",
    "\n",
    "def mab_10_env(action):\n",
    "\n",
    "    # for gaussian bandits, the reward is generated from a normal distribution\n",
    "    raise NotImplementedError()"
   ]
  },
  {
   "cell_type": "markdown",
   "metadata": {},
   "source": [
    "### Todo 4\n",
    "\n",
    "Test the different strategies on the 10-armed gaussian bandit and verify your results."
   ]
  }
 ],
 "metadata": {
  "kernelspec": {
   "display_name": "Python 3 (ipykernel)",
   "language": "python",
   "name": "python3"
  },
  "language_info": {
   "codemirror_mode": {
    "name": "ipython",
    "version": 3
   },
   "file_extension": ".py",
   "mimetype": "text/x-python",
   "name": "python",
   "nbconvert_exporter": "python",
   "pygments_lexer": "ipython3",
   "version": "3.10.12"
  }
 },
 "nbformat": 4,
 "nbformat_minor": 4
}
